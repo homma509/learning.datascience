{
  "nbformat": 4,
  "nbformat_minor": 0,
  "metadata": {
    "colab": {
      "name": "lec104.ipynb",
      "provenance": []
    },
    "kernelspec": {
      "name": "python3",
      "display_name": "Python 3"
    }
  },
  "cells": [
    {
      "cell_type": "code",
      "metadata": {
        "id": "YOUJmtIciaP3",
        "colab_type": "code",
        "colab": {}
      },
      "source": [
        "from bs4 import BeautifulSoup\n",
        "import requests"
      ],
      "execution_count": null,
      "outputs": []
    },
    {
      "cell_type": "code",
      "metadata": {
        "id": "Qg5gg9zOiqOO",
        "colab_type": "code",
        "colab": {}
      },
      "source": [
        "import pandas as pd\n",
        "from pandas import Series, DataFrame"
      ],
      "execution_count": null,
      "outputs": []
    },
    {
      "cell_type": "code",
      "metadata": {
        "id": "OclFLWMcjDTf",
        "colab_type": "code",
        "colab": {}
      },
      "source": [
        "url = ''"
      ],
      "execution_count": null,
      "outputs": []
    },
    {
      "cell_type": "code",
      "metadata": {
        "id": "qYYADSPHjdoE",
        "colab_type": "code",
        "colab": {}
      },
      "source": [
        "result = requests.get(url)"
      ],
      "execution_count": null,
      "outputs": []
    },
    {
      "cell_type": "code",
      "metadata": {
        "id": "pKGxUPbWjgKO",
        "colab_type": "code",
        "colab": {}
      },
      "source": [
        "c = result.content"
      ],
      "execution_count": null,
      "outputs": []
    },
    {
      "cell_type": "code",
      "metadata": {
        "id": "cNaSY8D5jmxY",
        "colab_type": "code",
        "colab": {}
      },
      "source": [
        "c"
      ],
      "execution_count": null,
      "outputs": []
    },
    {
      "cell_type": "code",
      "metadata": {
        "id": "n2D-dsVAjnsV",
        "colab_type": "code",
        "colab": {}
      },
      "source": [
        "soup = BeautifulSoup(c)"
      ],
      "execution_count": null,
      "outputs": []
    },
    {
      "cell_type": "code",
      "metadata": {
        "id": "tSvJlt9Cjr3e",
        "colab_type": "code",
        "colab": {}
      },
      "source": [
        "summary = soup.find('div', {'class':'list-land', 'id':'content'})"
      ],
      "execution_count": null,
      "outputs": []
    },
    {
      "cell_type": "code",
      "metadata": {
        "id": "ca9C5tvDlcHT",
        "colab_type": "code",
        "colab": {}
      },
      "source": [
        "tables = summary.find_all('table')"
      ],
      "execution_count": null,
      "outputs": []
    },
    {
      "cell_type": "code",
      "metadata": {
        "id": "aoPFmxsilgpb",
        "colab_type": "code",
        "colab": {}
      },
      "source": [
        "len(tables)"
      ],
      "execution_count": null,
      "outputs": []
    },
    {
      "cell_type": "code",
      "metadata": {
        "id": "U37iMCPSlj1O",
        "colab_type": "code",
        "colab": {}
      },
      "source": [
        "data = []\n",
        "rows = tables[0].find_all('tr')"
      ],
      "execution_count": null,
      "outputs": []
    },
    {
      "cell_type": "code",
      "metadata": {
        "id": "t4UD66rKnBhg",
        "colab_type": "code",
        "colab": {}
      },
      "source": [
        "len(rows)"
      ],
      "execution_count": null,
      "outputs": []
    },
    {
      "cell_type": "code",
      "metadata": {
        "id": "d_UuWAhCnC_7",
        "colab_type": "code",
        "colab": {}
      },
      "source": [
        "for tr in rows:\n",
        "  cols = tr.find_all('td')\n",
        "  for td in cols:\n",
        "    text = td.find(text=True)\n",
        "    print(text)\n",
        "    data.append(text)"
      ],
      "execution_count": null,
      "outputs": []
    },
    {
      "cell_type": "code",
      "metadata": {
        "id": "Z1dUavo_nKdD",
        "colab_type": "code",
        "colab": {}
      },
      "source": [
        "data"
      ],
      "execution_count": null,
      "outputs": []
    },
    {
      "cell_type": "code",
      "metadata": {
        "id": "g63lkzOZnc5p",
        "colab_type": "code",
        "colab": {}
      },
      "source": [
        "reports = []\n",
        "date = []\n",
        "index = 0\n",
        "for item in data:\n",
        "  if 'pdf' in item:\n",
        "    date.append(data[index-1])\n",
        "    reports.append(item.replace('\\xa0',' '))\n",
        "  index += 1"
      ],
      "execution_count": null,
      "outputs": []
    },
    {
      "cell_type": "code",
      "metadata": {
        "id": "9HQouK31oCG-",
        "colab_type": "code",
        "colab": {}
      },
      "source": [
        "reports"
      ],
      "execution_count": null,
      "outputs": []
    },
    {
      "cell_type": "code",
      "metadata": {
        "id": "wYZAZHFepdUg",
        "colab_type": "code",
        "colab": {}
      },
      "source": [
        "date = Series(date)\n",
        "reports = Series(reports)"
      ],
      "execution_count": null,
      "outputs": []
    },
    {
      "cell_type": "code",
      "metadata": {
        "id": "Kc5JhCpBqXO3",
        "colab_type": "code",
        "colab": {}
      },
      "source": [
        "web_df = pd.concat([date, reports], axis=1)"
      ],
      "execution_count": null,
      "outputs": []
    },
    {
      "cell_type": "code",
      "metadata": {
        "id": "oVfs1sNbqdYy",
        "colab_type": "code",
        "colab": {}
      },
      "source": [
        "web_df"
      ],
      "execution_count": null,
      "outputs": []
    },
    {
      "cell_type": "code",
      "metadata": {
        "id": "VS3t7YXdqeFd",
        "colab_type": "code",
        "colab": {}
      },
      "source": [
        "web_df.columns = ['Date', 'Reports']"
      ],
      "execution_count": null,
      "outputs": []
    },
    {
      "cell_type": "code",
      "metadata": {
        "id": "yUZvO4n6qk_l",
        "colab_type": "code",
        "colab": {}
      },
      "source": [
        "web_df"
      ],
      "execution_count": null,
      "outputs": []
    },
    {
      "cell_type": "code",
      "metadata": {
        "id": "VuERM4msqlwk",
        "colab_type": "code",
        "colab": {}
      },
      "source": [
        ""
      ],
      "execution_count": null,
      "outputs": []
    }
  ]
}