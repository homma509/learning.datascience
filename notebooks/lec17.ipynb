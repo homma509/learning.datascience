{
  "nbformat": 4,
  "nbformat_minor": 0,
  "metadata": {
    "colab": {
      "name": "lec17.ipynb",
      "provenance": []
    },
    "kernelspec": {
      "name": "python3",
      "display_name": "Python 3"
    }
  },
  "cells": [
    {
      "cell_type": "code",
      "metadata": {
        "id": "SckZGCc0VU_Z",
        "colab_type": "code",
        "colab": {}
      },
      "source": [
        "import numpy as np\n",
        "import pandas as pd\n",
        "from pandas import Series, DataFrame\n",
        "from numpy.random import randn"
      ],
      "execution_count": 1,
      "outputs": []
    },
    {
      "cell_type": "code",
      "metadata": {
        "id": "rJeR9I4tVh1C",
        "colab_type": "code",
        "colab": {}
      },
      "source": [
        "ser1 = Series([1,2,3,4], index = ['A', 'B', 'C', 'D'])"
      ],
      "execution_count": 2,
      "outputs": []
    },
    {
      "cell_type": "code",
      "metadata": {
        "id": "6C61JDphVz8Y",
        "colab_type": "code",
        "colab": {
          "base_uri": "https://localhost:8080/",
          "height": 102
        },
        "outputId": "8a09f9b7-1a95-46b0-bf86-7257668063cd"
      },
      "source": [
        "ser1"
      ],
      "execution_count": 3,
      "outputs": [
        {
          "output_type": "execute_result",
          "data": {
            "text/plain": [
              "A    1\n",
              "B    2\n",
              "C    3\n",
              "D    4\n",
              "dtype: int64"
            ]
          },
          "metadata": {
            "tags": []
          },
          "execution_count": 3
        }
      ]
    },
    {
      "cell_type": "code",
      "metadata": {
        "id": "CagStGeqV07F",
        "colab_type": "code",
        "colab": {}
      },
      "source": [
        "ser2 = ser1.reindex(['A', 'B', 'C', 'D', 'E', 'F'])"
      ],
      "execution_count": 4,
      "outputs": []
    },
    {
      "cell_type": "code",
      "metadata": {
        "id": "mDJZV-F1V8h-",
        "colab_type": "code",
        "colab": {
          "base_uri": "https://localhost:8080/",
          "height": 136
        },
        "outputId": "905b8cbc-1dbb-49e3-deba-e98ef22e32aa"
      },
      "source": [
        "ser2"
      ],
      "execution_count": 5,
      "outputs": [
        {
          "output_type": "execute_result",
          "data": {
            "text/plain": [
              "A    1.0\n",
              "B    2.0\n",
              "C    3.0\n",
              "D    4.0\n",
              "E    NaN\n",
              "F    NaN\n",
              "dtype: float64"
            ]
          },
          "metadata": {
            "tags": []
          },
          "execution_count": 5
        }
      ]
    },
    {
      "cell_type": "code",
      "metadata": {
        "id": "_s53hjhxV9aD",
        "colab_type": "code",
        "colab": {
          "base_uri": "https://localhost:8080/",
          "height": 153
        },
        "outputId": "dc39e73a-d7d0-4520-9b2a-aff2cc50501a"
      },
      "source": [
        "ser2.reindex(['A', 'B', 'C', 'D', 'E', 'F', 'G'], fill_value=0)"
      ],
      "execution_count": 6,
      "outputs": [
        {
          "output_type": "execute_result",
          "data": {
            "text/plain": [
              "A    1.0\n",
              "B    2.0\n",
              "C    3.0\n",
              "D    4.0\n",
              "E    NaN\n",
              "F    NaN\n",
              "G    0.0\n",
              "dtype: float64"
            ]
          },
          "metadata": {
            "tags": []
          },
          "execution_count": 6
        }
      ]
    },
    {
      "cell_type": "code",
      "metadata": {
        "id": "CZ7oqVdRWHTe",
        "colab_type": "code",
        "colab": {}
      },
      "source": [
        "ser3 = Series(['USA', 'Mexico', 'Canada'], index=[0,5,10])"
      ],
      "execution_count": 7,
      "outputs": []
    },
    {
      "cell_type": "code",
      "metadata": {
        "id": "Pjv_enX6WfpT",
        "colab_type": "code",
        "colab": {
          "base_uri": "https://localhost:8080/",
          "height": 85
        },
        "outputId": "70ac4089-dd7b-422c-fbc6-effd5cc20f5f"
      },
      "source": [
        "ser3"
      ],
      "execution_count": 8,
      "outputs": [
        {
          "output_type": "execute_result",
          "data": {
            "text/plain": [
              "0        USA\n",
              "5     Mexico\n",
              "10    Canada\n",
              "dtype: object"
            ]
          },
          "metadata": {
            "tags": []
          },
          "execution_count": 8
        }
      ]
    },
    {
      "cell_type": "code",
      "metadata": {
        "id": "JbtdGGRRWTlw",
        "colab_type": "code",
        "colab": {
          "base_uri": "https://localhost:8080/",
          "height": 289
        },
        "outputId": "b7e0b8ab-e078-4d29-c621-43890d155182"
      },
      "source": [
        "ser3.reindex(range(15), method='ffill')"
      ],
      "execution_count": 9,
      "outputs": [
        {
          "output_type": "execute_result",
          "data": {
            "text/plain": [
              "0        USA\n",
              "1        USA\n",
              "2        USA\n",
              "3        USA\n",
              "4        USA\n",
              "5     Mexico\n",
              "6     Mexico\n",
              "7     Mexico\n",
              "8     Mexico\n",
              "9     Mexico\n",
              "10    Canada\n",
              "11    Canada\n",
              "12    Canada\n",
              "13    Canada\n",
              "14    Canada\n",
              "dtype: object"
            ]
          },
          "metadata": {
            "tags": []
          },
          "execution_count": 9
        }
      ]
    },
    {
      "cell_type": "code",
      "metadata": {
        "id": "G1Lu-7ZJWamy",
        "colab_type": "code",
        "colab": {}
      },
      "source": [
        "dframe = DataFrame(randn(25).reshape((5,5)), index=['A','B','D','E','F'], columns=['col1','col2','col3','col4','col5'])"
      ],
      "execution_count": 10,
      "outputs": []
    },
    {
      "cell_type": "code",
      "metadata": {
        "id": "L_KowjEgW9b4",
        "colab_type": "code",
        "colab": {
          "base_uri": "https://localhost:8080/",
          "height": 204
        },
        "outputId": "230ee5d6-b2bb-4dc7-c8b3-1d1cde41b9c2"
      },
      "source": [
        "dframe"
      ],
      "execution_count": 11,
      "outputs": [
        {
          "output_type": "execute_result",
          "data": {
            "text/html": [
              "<div>\n",
              "<style scoped>\n",
              "    .dataframe tbody tr th:only-of-type {\n",
              "        vertical-align: middle;\n",
              "    }\n",
              "\n",
              "    .dataframe tbody tr th {\n",
              "        vertical-align: top;\n",
              "    }\n",
              "\n",
              "    .dataframe thead th {\n",
              "        text-align: right;\n",
              "    }\n",
              "</style>\n",
              "<table border=\"1\" class=\"dataframe\">\n",
              "  <thead>\n",
              "    <tr style=\"text-align: right;\">\n",
              "      <th></th>\n",
              "      <th>col1</th>\n",
              "      <th>col2</th>\n",
              "      <th>col3</th>\n",
              "      <th>col4</th>\n",
              "      <th>col5</th>\n",
              "    </tr>\n",
              "  </thead>\n",
              "  <tbody>\n",
              "    <tr>\n",
              "      <th>A</th>\n",
              "      <td>1.375794</td>\n",
              "      <td>0.706691</td>\n",
              "      <td>-0.189457</td>\n",
              "      <td>2.443027</td>\n",
              "      <td>1.281422</td>\n",
              "    </tr>\n",
              "    <tr>\n",
              "      <th>B</th>\n",
              "      <td>-0.500993</td>\n",
              "      <td>-0.018987</td>\n",
              "      <td>0.458752</td>\n",
              "      <td>1.600425</td>\n",
              "      <td>0.315079</td>\n",
              "    </tr>\n",
              "    <tr>\n",
              "      <th>D</th>\n",
              "      <td>-0.155265</td>\n",
              "      <td>-0.807044</td>\n",
              "      <td>1.805914</td>\n",
              "      <td>1.233832</td>\n",
              "      <td>-0.953289</td>\n",
              "    </tr>\n",
              "    <tr>\n",
              "      <th>E</th>\n",
              "      <td>0.121748</td>\n",
              "      <td>-1.638301</td>\n",
              "      <td>-0.151492</td>\n",
              "      <td>-0.454627</td>\n",
              "      <td>1.079868</td>\n",
              "    </tr>\n",
              "    <tr>\n",
              "      <th>F</th>\n",
              "      <td>0.275982</td>\n",
              "      <td>-0.933348</td>\n",
              "      <td>1.601138</td>\n",
              "      <td>0.383195</td>\n",
              "      <td>0.309870</td>\n",
              "    </tr>\n",
              "  </tbody>\n",
              "</table>\n",
              "</div>"
            ],
            "text/plain": [
              "       col1      col2      col3      col4      col5\n",
              "A  1.375794  0.706691 -0.189457  2.443027  1.281422\n",
              "B -0.500993 -0.018987  0.458752  1.600425  0.315079\n",
              "D -0.155265 -0.807044  1.805914  1.233832 -0.953289\n",
              "E  0.121748 -1.638301 -0.151492 -0.454627  1.079868\n",
              "F  0.275982 -0.933348  1.601138  0.383195  0.309870"
            ]
          },
          "metadata": {
            "tags": []
          },
          "execution_count": 11
        }
      ]
    },
    {
      "cell_type": "code",
      "metadata": {
        "id": "XeNoj4vYXASD",
        "colab_type": "code",
        "colab": {}
      },
      "source": [
        "new_index = ['A', 'B', 'C', 'D', 'E', 'F']\n",
        "dframe2 = dframe.reindex(new_index)"
      ],
      "execution_count": 12,
      "outputs": []
    },
    {
      "cell_type": "code",
      "metadata": {
        "id": "GPtJUW4qXLrb",
        "colab_type": "code",
        "colab": {
          "base_uri": "https://localhost:8080/",
          "height": 235
        },
        "outputId": "a27cb212-12cd-4d60-90ce-5a72a97698b5"
      },
      "source": [
        "dframe2"
      ],
      "execution_count": 13,
      "outputs": [
        {
          "output_type": "execute_result",
          "data": {
            "text/html": [
              "<div>\n",
              "<style scoped>\n",
              "    .dataframe tbody tr th:only-of-type {\n",
              "        vertical-align: middle;\n",
              "    }\n",
              "\n",
              "    .dataframe tbody tr th {\n",
              "        vertical-align: top;\n",
              "    }\n",
              "\n",
              "    .dataframe thead th {\n",
              "        text-align: right;\n",
              "    }\n",
              "</style>\n",
              "<table border=\"1\" class=\"dataframe\">\n",
              "  <thead>\n",
              "    <tr style=\"text-align: right;\">\n",
              "      <th></th>\n",
              "      <th>col1</th>\n",
              "      <th>col2</th>\n",
              "      <th>col3</th>\n",
              "      <th>col4</th>\n",
              "      <th>col5</th>\n",
              "    </tr>\n",
              "  </thead>\n",
              "  <tbody>\n",
              "    <tr>\n",
              "      <th>A</th>\n",
              "      <td>1.375794</td>\n",
              "      <td>0.706691</td>\n",
              "      <td>-0.189457</td>\n",
              "      <td>2.443027</td>\n",
              "      <td>1.281422</td>\n",
              "    </tr>\n",
              "    <tr>\n",
              "      <th>B</th>\n",
              "      <td>-0.500993</td>\n",
              "      <td>-0.018987</td>\n",
              "      <td>0.458752</td>\n",
              "      <td>1.600425</td>\n",
              "      <td>0.315079</td>\n",
              "    </tr>\n",
              "    <tr>\n",
              "      <th>C</th>\n",
              "      <td>NaN</td>\n",
              "      <td>NaN</td>\n",
              "      <td>NaN</td>\n",
              "      <td>NaN</td>\n",
              "      <td>NaN</td>\n",
              "    </tr>\n",
              "    <tr>\n",
              "      <th>D</th>\n",
              "      <td>-0.155265</td>\n",
              "      <td>-0.807044</td>\n",
              "      <td>1.805914</td>\n",
              "      <td>1.233832</td>\n",
              "      <td>-0.953289</td>\n",
              "    </tr>\n",
              "    <tr>\n",
              "      <th>E</th>\n",
              "      <td>0.121748</td>\n",
              "      <td>-1.638301</td>\n",
              "      <td>-0.151492</td>\n",
              "      <td>-0.454627</td>\n",
              "      <td>1.079868</td>\n",
              "    </tr>\n",
              "    <tr>\n",
              "      <th>F</th>\n",
              "      <td>0.275982</td>\n",
              "      <td>-0.933348</td>\n",
              "      <td>1.601138</td>\n",
              "      <td>0.383195</td>\n",
              "      <td>0.309870</td>\n",
              "    </tr>\n",
              "  </tbody>\n",
              "</table>\n",
              "</div>"
            ],
            "text/plain": [
              "       col1      col2      col3      col4      col5\n",
              "A  1.375794  0.706691 -0.189457  2.443027  1.281422\n",
              "B -0.500993 -0.018987  0.458752  1.600425  0.315079\n",
              "C       NaN       NaN       NaN       NaN       NaN\n",
              "D -0.155265 -0.807044  1.805914  1.233832 -0.953289\n",
              "E  0.121748 -1.638301 -0.151492 -0.454627  1.079868\n",
              "F  0.275982 -0.933348  1.601138  0.383195  0.309870"
            ]
          },
          "metadata": {
            "tags": []
          },
          "execution_count": 13
        }
      ]
    },
    {
      "cell_type": "code",
      "metadata": {
        "id": "THRsgVBNXSvB",
        "colab_type": "code",
        "colab": {
          "base_uri": "https://localhost:8080/",
          "height": 235
        },
        "outputId": "0ea724f3-15f5-44c1-9e7a-baeb83b82f37"
      },
      "source": [
        "new_columns = ['col1', 'col2', 'col3', 'col4', 'col5', 'col6']\n",
        "dframe2.reindex(columns=new_columns)"
      ],
      "execution_count": 14,
      "outputs": [
        {
          "output_type": "execute_result",
          "data": {
            "text/html": [
              "<div>\n",
              "<style scoped>\n",
              "    .dataframe tbody tr th:only-of-type {\n",
              "        vertical-align: middle;\n",
              "    }\n",
              "\n",
              "    .dataframe tbody tr th {\n",
              "        vertical-align: top;\n",
              "    }\n",
              "\n",
              "    .dataframe thead th {\n",
              "        text-align: right;\n",
              "    }\n",
              "</style>\n",
              "<table border=\"1\" class=\"dataframe\">\n",
              "  <thead>\n",
              "    <tr style=\"text-align: right;\">\n",
              "      <th></th>\n",
              "      <th>col1</th>\n",
              "      <th>col2</th>\n",
              "      <th>col3</th>\n",
              "      <th>col4</th>\n",
              "      <th>col5</th>\n",
              "      <th>col6</th>\n",
              "    </tr>\n",
              "  </thead>\n",
              "  <tbody>\n",
              "    <tr>\n",
              "      <th>A</th>\n",
              "      <td>1.375794</td>\n",
              "      <td>0.706691</td>\n",
              "      <td>-0.189457</td>\n",
              "      <td>2.443027</td>\n",
              "      <td>1.281422</td>\n",
              "      <td>NaN</td>\n",
              "    </tr>\n",
              "    <tr>\n",
              "      <th>B</th>\n",
              "      <td>-0.500993</td>\n",
              "      <td>-0.018987</td>\n",
              "      <td>0.458752</td>\n",
              "      <td>1.600425</td>\n",
              "      <td>0.315079</td>\n",
              "      <td>NaN</td>\n",
              "    </tr>\n",
              "    <tr>\n",
              "      <th>C</th>\n",
              "      <td>NaN</td>\n",
              "      <td>NaN</td>\n",
              "      <td>NaN</td>\n",
              "      <td>NaN</td>\n",
              "      <td>NaN</td>\n",
              "      <td>NaN</td>\n",
              "    </tr>\n",
              "    <tr>\n",
              "      <th>D</th>\n",
              "      <td>-0.155265</td>\n",
              "      <td>-0.807044</td>\n",
              "      <td>1.805914</td>\n",
              "      <td>1.233832</td>\n",
              "      <td>-0.953289</td>\n",
              "      <td>NaN</td>\n",
              "    </tr>\n",
              "    <tr>\n",
              "      <th>E</th>\n",
              "      <td>0.121748</td>\n",
              "      <td>-1.638301</td>\n",
              "      <td>-0.151492</td>\n",
              "      <td>-0.454627</td>\n",
              "      <td>1.079868</td>\n",
              "      <td>NaN</td>\n",
              "    </tr>\n",
              "    <tr>\n",
              "      <th>F</th>\n",
              "      <td>0.275982</td>\n",
              "      <td>-0.933348</td>\n",
              "      <td>1.601138</td>\n",
              "      <td>0.383195</td>\n",
              "      <td>0.309870</td>\n",
              "      <td>NaN</td>\n",
              "    </tr>\n",
              "  </tbody>\n",
              "</table>\n",
              "</div>"
            ],
            "text/plain": [
              "       col1      col2      col3      col4      col5  col6\n",
              "A  1.375794  0.706691 -0.189457  2.443027  1.281422   NaN\n",
              "B -0.500993 -0.018987  0.458752  1.600425  0.315079   NaN\n",
              "C       NaN       NaN       NaN       NaN       NaN   NaN\n",
              "D -0.155265 -0.807044  1.805914  1.233832 -0.953289   NaN\n",
              "E  0.121748 -1.638301 -0.151492 -0.454627  1.079868   NaN\n",
              "F  0.275982 -0.933348  1.601138  0.383195  0.309870   NaN"
            ]
          },
          "metadata": {
            "tags": []
          },
          "execution_count": 14
        }
      ]
    },
    {
      "cell_type": "code",
      "metadata": {
        "id": "DerWLeOeXr53",
        "colab_type": "code",
        "colab": {
          "base_uri": "https://localhost:8080/",
          "height": 204
        },
        "outputId": "13e8e543-c242-4d56-adac-680a1ce4521a"
      },
      "source": [
        "dframe"
      ],
      "execution_count": 15,
      "outputs": [
        {
          "output_type": "execute_result",
          "data": {
            "text/html": [
              "<div>\n",
              "<style scoped>\n",
              "    .dataframe tbody tr th:only-of-type {\n",
              "        vertical-align: middle;\n",
              "    }\n",
              "\n",
              "    .dataframe tbody tr th {\n",
              "        vertical-align: top;\n",
              "    }\n",
              "\n",
              "    .dataframe thead th {\n",
              "        text-align: right;\n",
              "    }\n",
              "</style>\n",
              "<table border=\"1\" class=\"dataframe\">\n",
              "  <thead>\n",
              "    <tr style=\"text-align: right;\">\n",
              "      <th></th>\n",
              "      <th>col1</th>\n",
              "      <th>col2</th>\n",
              "      <th>col3</th>\n",
              "      <th>col4</th>\n",
              "      <th>col5</th>\n",
              "    </tr>\n",
              "  </thead>\n",
              "  <tbody>\n",
              "    <tr>\n",
              "      <th>A</th>\n",
              "      <td>1.375794</td>\n",
              "      <td>0.706691</td>\n",
              "      <td>-0.189457</td>\n",
              "      <td>2.443027</td>\n",
              "      <td>1.281422</td>\n",
              "    </tr>\n",
              "    <tr>\n",
              "      <th>B</th>\n",
              "      <td>-0.500993</td>\n",
              "      <td>-0.018987</td>\n",
              "      <td>0.458752</td>\n",
              "      <td>1.600425</td>\n",
              "      <td>0.315079</td>\n",
              "    </tr>\n",
              "    <tr>\n",
              "      <th>D</th>\n",
              "      <td>-0.155265</td>\n",
              "      <td>-0.807044</td>\n",
              "      <td>1.805914</td>\n",
              "      <td>1.233832</td>\n",
              "      <td>-0.953289</td>\n",
              "    </tr>\n",
              "    <tr>\n",
              "      <th>E</th>\n",
              "      <td>0.121748</td>\n",
              "      <td>-1.638301</td>\n",
              "      <td>-0.151492</td>\n",
              "      <td>-0.454627</td>\n",
              "      <td>1.079868</td>\n",
              "    </tr>\n",
              "    <tr>\n",
              "      <th>F</th>\n",
              "      <td>0.275982</td>\n",
              "      <td>-0.933348</td>\n",
              "      <td>1.601138</td>\n",
              "      <td>0.383195</td>\n",
              "      <td>0.309870</td>\n",
              "    </tr>\n",
              "  </tbody>\n",
              "</table>\n",
              "</div>"
            ],
            "text/plain": [
              "       col1      col2      col3      col4      col5\n",
              "A  1.375794  0.706691 -0.189457  2.443027  1.281422\n",
              "B -0.500993 -0.018987  0.458752  1.600425  0.315079\n",
              "D -0.155265 -0.807044  1.805914  1.233832 -0.953289\n",
              "E  0.121748 -1.638301 -0.151492 -0.454627  1.079868\n",
              "F  0.275982 -0.933348  1.601138  0.383195  0.309870"
            ]
          },
          "metadata": {
            "tags": []
          },
          "execution_count": 15
        }
      ]
    },
    {
      "cell_type": "code",
      "metadata": {
        "id": "I1UcpdvUX0Bd",
        "colab_type": "code",
        "colab": {
          "base_uri": "https://localhost:8080/",
          "height": 235
        },
        "outputId": "9f0c9de0-460d-480e-9a7e-a39308d651df"
      },
      "source": [
        "dframe.reindex(index=new_index, columns=new_columns)"
      ],
      "execution_count": 17,
      "outputs": [
        {
          "output_type": "execute_result",
          "data": {
            "text/html": [
              "<div>\n",
              "<style scoped>\n",
              "    .dataframe tbody tr th:only-of-type {\n",
              "        vertical-align: middle;\n",
              "    }\n",
              "\n",
              "    .dataframe tbody tr th {\n",
              "        vertical-align: top;\n",
              "    }\n",
              "\n",
              "    .dataframe thead th {\n",
              "        text-align: right;\n",
              "    }\n",
              "</style>\n",
              "<table border=\"1\" class=\"dataframe\">\n",
              "  <thead>\n",
              "    <tr style=\"text-align: right;\">\n",
              "      <th></th>\n",
              "      <th>col1</th>\n",
              "      <th>col2</th>\n",
              "      <th>col3</th>\n",
              "      <th>col4</th>\n",
              "      <th>col5</th>\n",
              "      <th>col6</th>\n",
              "    </tr>\n",
              "  </thead>\n",
              "  <tbody>\n",
              "    <tr>\n",
              "      <th>A</th>\n",
              "      <td>1.375794</td>\n",
              "      <td>0.706691</td>\n",
              "      <td>-0.189457</td>\n",
              "      <td>2.443027</td>\n",
              "      <td>1.281422</td>\n",
              "      <td>NaN</td>\n",
              "    </tr>\n",
              "    <tr>\n",
              "      <th>B</th>\n",
              "      <td>-0.500993</td>\n",
              "      <td>-0.018987</td>\n",
              "      <td>0.458752</td>\n",
              "      <td>1.600425</td>\n",
              "      <td>0.315079</td>\n",
              "      <td>NaN</td>\n",
              "    </tr>\n",
              "    <tr>\n",
              "      <th>C</th>\n",
              "      <td>NaN</td>\n",
              "      <td>NaN</td>\n",
              "      <td>NaN</td>\n",
              "      <td>NaN</td>\n",
              "      <td>NaN</td>\n",
              "      <td>NaN</td>\n",
              "    </tr>\n",
              "    <tr>\n",
              "      <th>D</th>\n",
              "      <td>-0.155265</td>\n",
              "      <td>-0.807044</td>\n",
              "      <td>1.805914</td>\n",
              "      <td>1.233832</td>\n",
              "      <td>-0.953289</td>\n",
              "      <td>NaN</td>\n",
              "    </tr>\n",
              "    <tr>\n",
              "      <th>E</th>\n",
              "      <td>0.121748</td>\n",
              "      <td>-1.638301</td>\n",
              "      <td>-0.151492</td>\n",
              "      <td>-0.454627</td>\n",
              "      <td>1.079868</td>\n",
              "      <td>NaN</td>\n",
              "    </tr>\n",
              "    <tr>\n",
              "      <th>F</th>\n",
              "      <td>0.275982</td>\n",
              "      <td>-0.933348</td>\n",
              "      <td>1.601138</td>\n",
              "      <td>0.383195</td>\n",
              "      <td>0.309870</td>\n",
              "      <td>NaN</td>\n",
              "    </tr>\n",
              "  </tbody>\n",
              "</table>\n",
              "</div>"
            ],
            "text/plain": [
              "       col1      col2      col3      col4      col5  col6\n",
              "A  1.375794  0.706691 -0.189457  2.443027  1.281422   NaN\n",
              "B -0.500993 -0.018987  0.458752  1.600425  0.315079   NaN\n",
              "C       NaN       NaN       NaN       NaN       NaN   NaN\n",
              "D -0.155265 -0.807044  1.805914  1.233832 -0.953289   NaN\n",
              "E  0.121748 -1.638301 -0.151492 -0.454627  1.079868   NaN\n",
              "F  0.275982 -0.933348  1.601138  0.383195  0.309870   NaN"
            ]
          },
          "metadata": {
            "tags": []
          },
          "execution_count": 17
        }
      ]
    },
    {
      "cell_type": "code",
      "metadata": {
        "id": "21N8SLtKX5L1",
        "colab_type": "code",
        "colab": {}
      },
      "source": [
        ""
      ],
      "execution_count": null,
      "outputs": []
    }
  ]
}