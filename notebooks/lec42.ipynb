{
  "nbformat": 4,
  "nbformat_minor": 0,
  "metadata": {
    "colab": {
      "name": "lec42.ipynb",
      "provenance": []
    },
    "kernelspec": {
      "name": "python3",
      "display_name": "Python 3"
    }
  },
  "cells": [
    {
      "cell_type": "code",
      "metadata": {
        "id": "6heeVGpZY34K",
        "colab_type": "code",
        "colab": {}
      },
      "source": [
        "import numpy as np\n",
        "import pandas as pd\n",
        "from pandas import DataFrame"
      ],
      "execution_count": 1,
      "outputs": []
    },
    {
      "cell_type": "code",
      "metadata": {
        "id": "MjEEBy3HZADK",
        "colab_type": "code",
        "colab": {}
      },
      "source": [
        "dframe = DataFrame({'k1': ['X','X','Y','Y','Z'],\n",
        "                    'k2':['alpha','beta','alpha','beta','alpha'],\n",
        "                    'dataset1':np.random.randn(5),\n",
        "                    'dataset2':np.random.randn(5)})"
      ],
      "execution_count": 2,
      "outputs": []
    },
    {
      "cell_type": "code",
      "metadata": {
        "id": "K1IMSzQPZc0L",
        "colab_type": "code",
        "colab": {
          "base_uri": "https://localhost:8080/",
          "height": 204
        },
        "outputId": "0fcc7b34-4554-4833-f4d0-84edc2a6d7a5"
      },
      "source": [
        "dframe"
      ],
      "execution_count": 3,
      "outputs": [
        {
          "output_type": "execute_result",
          "data": {
            "text/html": [
              "<div>\n",
              "<style scoped>\n",
              "    .dataframe tbody tr th:only-of-type {\n",
              "        vertical-align: middle;\n",
              "    }\n",
              "\n",
              "    .dataframe tbody tr th {\n",
              "        vertical-align: top;\n",
              "    }\n",
              "\n",
              "    .dataframe thead th {\n",
              "        text-align: right;\n",
              "    }\n",
              "</style>\n",
              "<table border=\"1\" class=\"dataframe\">\n",
              "  <thead>\n",
              "    <tr style=\"text-align: right;\">\n",
              "      <th></th>\n",
              "      <th>k1</th>\n",
              "      <th>k2</th>\n",
              "      <th>dataset1</th>\n",
              "      <th>dataset2</th>\n",
              "    </tr>\n",
              "  </thead>\n",
              "  <tbody>\n",
              "    <tr>\n",
              "      <th>0</th>\n",
              "      <td>X</td>\n",
              "      <td>alpha</td>\n",
              "      <td>-0.307278</td>\n",
              "      <td>-0.091722</td>\n",
              "    </tr>\n",
              "    <tr>\n",
              "      <th>1</th>\n",
              "      <td>X</td>\n",
              "      <td>beta</td>\n",
              "      <td>-1.069732</td>\n",
              "      <td>-2.082362</td>\n",
              "    </tr>\n",
              "    <tr>\n",
              "      <th>2</th>\n",
              "      <td>Y</td>\n",
              "      <td>alpha</td>\n",
              "      <td>-0.455927</td>\n",
              "      <td>-0.708633</td>\n",
              "    </tr>\n",
              "    <tr>\n",
              "      <th>3</th>\n",
              "      <td>Y</td>\n",
              "      <td>beta</td>\n",
              "      <td>2.215915</td>\n",
              "      <td>0.431766</td>\n",
              "    </tr>\n",
              "    <tr>\n",
              "      <th>4</th>\n",
              "      <td>Z</td>\n",
              "      <td>alpha</td>\n",
              "      <td>1.055917</td>\n",
              "      <td>-0.929687</td>\n",
              "    </tr>\n",
              "  </tbody>\n",
              "</table>\n",
              "</div>"
            ],
            "text/plain": [
              "  k1     k2  dataset1  dataset2\n",
              "0  X  alpha -0.307278 -0.091722\n",
              "1  X   beta -1.069732 -2.082362\n",
              "2  Y  alpha -0.455927 -0.708633\n",
              "3  Y   beta  2.215915  0.431766\n",
              "4  Z  alpha  1.055917 -0.929687"
            ]
          },
          "metadata": {
            "tags": []
          },
          "execution_count": 3
        }
      ]
    },
    {
      "cell_type": "code",
      "metadata": {
        "id": "Hr8ZyZeuZdu0",
        "colab_type": "code",
        "colab": {}
      },
      "source": [
        "group1 = dframe['dataset1'].groupby(dframe['k1'])"
      ],
      "execution_count": 4,
      "outputs": []
    },
    {
      "cell_type": "code",
      "metadata": {
        "id": "dpQi8_W4Zr7H",
        "colab_type": "code",
        "colab": {
          "base_uri": "https://localhost:8080/",
          "height": 34
        },
        "outputId": "4ce121c2-58d8-42ac-845e-bdf17abde7a8"
      },
      "source": [
        "group1"
      ],
      "execution_count": 5,
      "outputs": [
        {
          "output_type": "execute_result",
          "data": {
            "text/plain": [
              "<pandas.core.groupby.generic.SeriesGroupBy object at 0x7fe9afa66080>"
            ]
          },
          "metadata": {
            "tags": []
          },
          "execution_count": 5
        }
      ]
    },
    {
      "cell_type": "code",
      "metadata": {
        "id": "NXnzcIlEZsqy",
        "colab_type": "code",
        "colab": {
          "base_uri": "https://localhost:8080/",
          "height": 102
        },
        "outputId": "cf4a75f1-fa80-4825-c42c-35f4403bc39c"
      },
      "source": [
        "group1.mean()"
      ],
      "execution_count": 6,
      "outputs": [
        {
          "output_type": "execute_result",
          "data": {
            "text/plain": [
              "k1\n",
              "X   -0.688505\n",
              "Y    0.879994\n",
              "Z    1.055917\n",
              "Name: dataset1, dtype: float64"
            ]
          },
          "metadata": {
            "tags": []
          },
          "execution_count": 6
        }
      ]
    },
    {
      "cell_type": "code",
      "metadata": {
        "id": "aac56OAOZvwj",
        "colab_type": "code",
        "colab": {}
      },
      "source": [
        "cities = np.array(['NY','LA','LA','NY','NY'])\n",
        "month = np.array(['JAN','FEB','JAN','FEB','JAN'])"
      ],
      "execution_count": 7,
      "outputs": []
    },
    {
      "cell_type": "code",
      "metadata": {
        "id": "rRnuAdnzaKLW",
        "colab_type": "code",
        "colab": {
          "base_uri": "https://localhost:8080/",
          "height": 204
        },
        "outputId": "e512b13b-5cbb-4ba9-e3f7-0fd1329600a8"
      },
      "source": [
        "dframe"
      ],
      "execution_count": 8,
      "outputs": [
        {
          "output_type": "execute_result",
          "data": {
            "text/html": [
              "<div>\n",
              "<style scoped>\n",
              "    .dataframe tbody tr th:only-of-type {\n",
              "        vertical-align: middle;\n",
              "    }\n",
              "\n",
              "    .dataframe tbody tr th {\n",
              "        vertical-align: top;\n",
              "    }\n",
              "\n",
              "    .dataframe thead th {\n",
              "        text-align: right;\n",
              "    }\n",
              "</style>\n",
              "<table border=\"1\" class=\"dataframe\">\n",
              "  <thead>\n",
              "    <tr style=\"text-align: right;\">\n",
              "      <th></th>\n",
              "      <th>k1</th>\n",
              "      <th>k2</th>\n",
              "      <th>dataset1</th>\n",
              "      <th>dataset2</th>\n",
              "    </tr>\n",
              "  </thead>\n",
              "  <tbody>\n",
              "    <tr>\n",
              "      <th>0</th>\n",
              "      <td>X</td>\n",
              "      <td>alpha</td>\n",
              "      <td>-0.307278</td>\n",
              "      <td>-0.091722</td>\n",
              "    </tr>\n",
              "    <tr>\n",
              "      <th>1</th>\n",
              "      <td>X</td>\n",
              "      <td>beta</td>\n",
              "      <td>-1.069732</td>\n",
              "      <td>-2.082362</td>\n",
              "    </tr>\n",
              "    <tr>\n",
              "      <th>2</th>\n",
              "      <td>Y</td>\n",
              "      <td>alpha</td>\n",
              "      <td>-0.455927</td>\n",
              "      <td>-0.708633</td>\n",
              "    </tr>\n",
              "    <tr>\n",
              "      <th>3</th>\n",
              "      <td>Y</td>\n",
              "      <td>beta</td>\n",
              "      <td>2.215915</td>\n",
              "      <td>0.431766</td>\n",
              "    </tr>\n",
              "    <tr>\n",
              "      <th>4</th>\n",
              "      <td>Z</td>\n",
              "      <td>alpha</td>\n",
              "      <td>1.055917</td>\n",
              "      <td>-0.929687</td>\n",
              "    </tr>\n",
              "  </tbody>\n",
              "</table>\n",
              "</div>"
            ],
            "text/plain": [
              "  k1     k2  dataset1  dataset2\n",
              "0  X  alpha -0.307278 -0.091722\n",
              "1  X   beta -1.069732 -2.082362\n",
              "2  Y  alpha -0.455927 -0.708633\n",
              "3  Y   beta  2.215915  0.431766\n",
              "4  Z  alpha  1.055917 -0.929687"
            ]
          },
          "metadata": {
            "tags": []
          },
          "execution_count": 8
        }
      ]
    },
    {
      "cell_type": "code",
      "metadata": {
        "id": "kKRdHeu9aLHz",
        "colab_type": "code",
        "colab": {
          "base_uri": "https://localhost:8080/",
          "height": 102
        },
        "outputId": "87595471-6a02-4ae8-dae7-638f918babf1"
      },
      "source": [
        "dframe['dataset1'].groupby([cities, month]).mean()"
      ],
      "execution_count": 9,
      "outputs": [
        {
          "output_type": "execute_result",
          "data": {
            "text/plain": [
              "LA  FEB   -1.069732\n",
              "    JAN   -0.455927\n",
              "NY  FEB    2.215915\n",
              "    JAN    0.374320\n",
              "Name: dataset1, dtype: float64"
            ]
          },
          "metadata": {
            "tags": []
          },
          "execution_count": 9
        }
      ]
    },
    {
      "cell_type": "code",
      "metadata": {
        "id": "9RB7I0CQbPxx",
        "colab_type": "code",
        "colab": {
          "base_uri": "https://localhost:8080/",
          "height": 173
        },
        "outputId": "a277e0d0-fd03-4e22-afac-401f4a506a84"
      },
      "source": [
        "dframe.groupby('k1').mean()"
      ],
      "execution_count": 10,
      "outputs": [
        {
          "output_type": "execute_result",
          "data": {
            "text/html": [
              "<div>\n",
              "<style scoped>\n",
              "    .dataframe tbody tr th:only-of-type {\n",
              "        vertical-align: middle;\n",
              "    }\n",
              "\n",
              "    .dataframe tbody tr th {\n",
              "        vertical-align: top;\n",
              "    }\n",
              "\n",
              "    .dataframe thead th {\n",
              "        text-align: right;\n",
              "    }\n",
              "</style>\n",
              "<table border=\"1\" class=\"dataframe\">\n",
              "  <thead>\n",
              "    <tr style=\"text-align: right;\">\n",
              "      <th></th>\n",
              "      <th>dataset1</th>\n",
              "      <th>dataset2</th>\n",
              "    </tr>\n",
              "    <tr>\n",
              "      <th>k1</th>\n",
              "      <th></th>\n",
              "      <th></th>\n",
              "    </tr>\n",
              "  </thead>\n",
              "  <tbody>\n",
              "    <tr>\n",
              "      <th>X</th>\n",
              "      <td>-0.688505</td>\n",
              "      <td>-1.087042</td>\n",
              "    </tr>\n",
              "    <tr>\n",
              "      <th>Y</th>\n",
              "      <td>0.879994</td>\n",
              "      <td>-0.138434</td>\n",
              "    </tr>\n",
              "    <tr>\n",
              "      <th>Z</th>\n",
              "      <td>1.055917</td>\n",
              "      <td>-0.929687</td>\n",
              "    </tr>\n",
              "  </tbody>\n",
              "</table>\n",
              "</div>"
            ],
            "text/plain": [
              "    dataset1  dataset2\n",
              "k1                    \n",
              "X  -0.688505 -1.087042\n",
              "Y   0.879994 -0.138434\n",
              "Z   1.055917 -0.929687"
            ]
          },
          "metadata": {
            "tags": []
          },
          "execution_count": 10
        }
      ]
    },
    {
      "cell_type": "code",
      "metadata": {
        "id": "JfSHA6ZXbkwg",
        "colab_type": "code",
        "colab": {
          "base_uri": "https://localhost:8080/",
          "height": 235
        },
        "outputId": "e1805b53-b1af-440e-d250-582cd8cc9b49"
      },
      "source": [
        "dframe.groupby(['k1','k2']).mean()"
      ],
      "execution_count": 11,
      "outputs": [
        {
          "output_type": "execute_result",
          "data": {
            "text/html": [
              "<div>\n",
              "<style scoped>\n",
              "    .dataframe tbody tr th:only-of-type {\n",
              "        vertical-align: middle;\n",
              "    }\n",
              "\n",
              "    .dataframe tbody tr th {\n",
              "        vertical-align: top;\n",
              "    }\n",
              "\n",
              "    .dataframe thead th {\n",
              "        text-align: right;\n",
              "    }\n",
              "</style>\n",
              "<table border=\"1\" class=\"dataframe\">\n",
              "  <thead>\n",
              "    <tr style=\"text-align: right;\">\n",
              "      <th></th>\n",
              "      <th></th>\n",
              "      <th>dataset1</th>\n",
              "      <th>dataset2</th>\n",
              "    </tr>\n",
              "    <tr>\n",
              "      <th>k1</th>\n",
              "      <th>k2</th>\n",
              "      <th></th>\n",
              "      <th></th>\n",
              "    </tr>\n",
              "  </thead>\n",
              "  <tbody>\n",
              "    <tr>\n",
              "      <th rowspan=\"2\" valign=\"top\">X</th>\n",
              "      <th>alpha</th>\n",
              "      <td>-0.307278</td>\n",
              "      <td>-0.091722</td>\n",
              "    </tr>\n",
              "    <tr>\n",
              "      <th>beta</th>\n",
              "      <td>-1.069732</td>\n",
              "      <td>-2.082362</td>\n",
              "    </tr>\n",
              "    <tr>\n",
              "      <th rowspan=\"2\" valign=\"top\">Y</th>\n",
              "      <th>alpha</th>\n",
              "      <td>-0.455927</td>\n",
              "      <td>-0.708633</td>\n",
              "    </tr>\n",
              "    <tr>\n",
              "      <th>beta</th>\n",
              "      <td>2.215915</td>\n",
              "      <td>0.431766</td>\n",
              "    </tr>\n",
              "    <tr>\n",
              "      <th>Z</th>\n",
              "      <th>alpha</th>\n",
              "      <td>1.055917</td>\n",
              "      <td>-0.929687</td>\n",
              "    </tr>\n",
              "  </tbody>\n",
              "</table>\n",
              "</div>"
            ],
            "text/plain": [
              "          dataset1  dataset2\n",
              "k1 k2                       \n",
              "X  alpha -0.307278 -0.091722\n",
              "   beta  -1.069732 -2.082362\n",
              "Y  alpha -0.455927 -0.708633\n",
              "   beta   2.215915  0.431766\n",
              "Z  alpha  1.055917 -0.929687"
            ]
          },
          "metadata": {
            "tags": []
          },
          "execution_count": 11
        }
      ]
    },
    {
      "cell_type": "code",
      "metadata": {
        "id": "OsnTnXhUbovw",
        "colab_type": "code",
        "colab": {}
      },
      "source": [
        "dataset2_group = dframe.groupby(['k1','k2'])[['dataset2']]"
      ],
      "execution_count": 12,
      "outputs": []
    },
    {
      "cell_type": "code",
      "metadata": {
        "id": "KWbUKgulbwVV",
        "colab_type": "code",
        "colab": {
          "base_uri": "https://localhost:8080/",
          "height": 235
        },
        "outputId": "a98aea20-11cd-4838-d6ba-20dc6667dfec"
      },
      "source": [
        "dataset2_group.mean()"
      ],
      "execution_count": 13,
      "outputs": [
        {
          "output_type": "execute_result",
          "data": {
            "text/html": [
              "<div>\n",
              "<style scoped>\n",
              "    .dataframe tbody tr th:only-of-type {\n",
              "        vertical-align: middle;\n",
              "    }\n",
              "\n",
              "    .dataframe tbody tr th {\n",
              "        vertical-align: top;\n",
              "    }\n",
              "\n",
              "    .dataframe thead th {\n",
              "        text-align: right;\n",
              "    }\n",
              "</style>\n",
              "<table border=\"1\" class=\"dataframe\">\n",
              "  <thead>\n",
              "    <tr style=\"text-align: right;\">\n",
              "      <th></th>\n",
              "      <th></th>\n",
              "      <th>dataset2</th>\n",
              "    </tr>\n",
              "    <tr>\n",
              "      <th>k1</th>\n",
              "      <th>k2</th>\n",
              "      <th></th>\n",
              "    </tr>\n",
              "  </thead>\n",
              "  <tbody>\n",
              "    <tr>\n",
              "      <th rowspan=\"2\" valign=\"top\">X</th>\n",
              "      <th>alpha</th>\n",
              "      <td>-0.091722</td>\n",
              "    </tr>\n",
              "    <tr>\n",
              "      <th>beta</th>\n",
              "      <td>-2.082362</td>\n",
              "    </tr>\n",
              "    <tr>\n",
              "      <th rowspan=\"2\" valign=\"top\">Y</th>\n",
              "      <th>alpha</th>\n",
              "      <td>-0.708633</td>\n",
              "    </tr>\n",
              "    <tr>\n",
              "      <th>beta</th>\n",
              "      <td>0.431766</td>\n",
              "    </tr>\n",
              "    <tr>\n",
              "      <th>Z</th>\n",
              "      <th>alpha</th>\n",
              "      <td>-0.929687</td>\n",
              "    </tr>\n",
              "  </tbody>\n",
              "</table>\n",
              "</div>"
            ],
            "text/plain": [
              "          dataset2\n",
              "k1 k2             \n",
              "X  alpha -0.091722\n",
              "   beta  -2.082362\n",
              "Y  alpha -0.708633\n",
              "   beta   0.431766\n",
              "Z  alpha -0.929687"
            ]
          },
          "metadata": {
            "tags": []
          },
          "execution_count": 13
        }
      ]
    },
    {
      "cell_type": "code",
      "metadata": {
        "id": "QqWH5fYNb6TS",
        "colab_type": "code",
        "colab": {
          "base_uri": "https://localhost:8080/",
          "height": 102
        },
        "outputId": "1cec0292-0cb8-49ae-b67e-e6cb4550d084"
      },
      "source": [
        "dframe.groupby(['k1']).size()"
      ],
      "execution_count": 14,
      "outputs": [
        {
          "output_type": "execute_result",
          "data": {
            "text/plain": [
              "k1\n",
              "X    2\n",
              "Y    2\n",
              "Z    1\n",
              "dtype: int64"
            ]
          },
          "metadata": {
            "tags": []
          },
          "execution_count": 14
        }
      ]
    },
    {
      "cell_type": "code",
      "metadata": {
        "id": "eRWpUOVzcGLf",
        "colab_type": "code",
        "colab": {
          "base_uri": "https://localhost:8080/",
          "height": 306
        },
        "outputId": "3aa1b8d9-845f-4762-e432-77cc91218bdd"
      },
      "source": [
        "for name, group in dframe.groupby('k1'):\n",
        "  print('This is the {} group'.format(name))\n",
        "  print(group)\n",
        "  print('\\n')"
      ],
      "execution_count": 15,
      "outputs": [
        {
          "output_type": "stream",
          "text": [
            "This is the X group\n",
            "  k1     k2  dataset1  dataset2\n",
            "0  X  alpha -0.307278 -0.091722\n",
            "1  X   beta -1.069732 -2.082362\n",
            "\n",
            "\n",
            "This is the Y group\n",
            "  k1     k2  dataset1  dataset2\n",
            "2  Y  alpha -0.455927 -0.708633\n",
            "3  Y   beta  2.215915  0.431766\n",
            "\n",
            "\n",
            "This is the Z group\n",
            "  k1     k2  dataset1  dataset2\n",
            "4  Z  alpha  1.055917 -0.929687\n",
            "\n",
            "\n"
          ],
          "name": "stdout"
        }
      ]
    },
    {
      "cell_type": "code",
      "metadata": {
        "id": "bWOrQ6ClcV4I",
        "colab_type": "code",
        "colab": {
          "base_uri": "https://localhost:8080/",
          "height": 442
        },
        "outputId": "c97bb7c2-c915-4112-b49d-ca090777b81c"
      },
      "source": [
        "for (k1,k2), group in dframe.groupby(['k1', 'k2']):\n",
        "  print('key1={} key2={}'.format(k1,k2))\n",
        "  print(group)\n",
        "  print('\\n')"
      ],
      "execution_count": 16,
      "outputs": [
        {
          "output_type": "stream",
          "text": [
            "key1=X key2=alpha\n",
            "  k1     k2  dataset1  dataset2\n",
            "0  X  alpha -0.307278 -0.091722\n",
            "\n",
            "\n",
            "key1=X key2=beta\n",
            "  k1    k2  dataset1  dataset2\n",
            "1  X  beta -1.069732 -2.082362\n",
            "\n",
            "\n",
            "key1=Y key2=alpha\n",
            "  k1     k2  dataset1  dataset2\n",
            "2  Y  alpha -0.455927 -0.708633\n",
            "\n",
            "\n",
            "key1=Y key2=beta\n",
            "  k1    k2  dataset1  dataset2\n",
            "3  Y  beta  2.215915  0.431766\n",
            "\n",
            "\n",
            "key1=Z key2=alpha\n",
            "  k1     k2  dataset1  dataset2\n",
            "4  Z  alpha  1.055917 -0.929687\n",
            "\n",
            "\n"
          ],
          "name": "stdout"
        }
      ]
    },
    {
      "cell_type": "code",
      "metadata": {
        "id": "JsbKSyWCcyUN",
        "colab_type": "code",
        "colab": {}
      },
      "source": [
        "gr = dframe.groupby('k1')"
      ],
      "execution_count": 17,
      "outputs": []
    },
    {
      "cell_type": "code",
      "metadata": {
        "id": "9eqivNOOc52T",
        "colab_type": "code",
        "colab": {
          "base_uri": "https://localhost:8080/",
          "height": 111
        },
        "outputId": "be7e8204-43e0-43f1-bc71-b1be0d3461ef"
      },
      "source": [
        "gr.get_group('X')"
      ],
      "execution_count": 18,
      "outputs": [
        {
          "output_type": "execute_result",
          "data": {
            "text/html": [
              "<div>\n",
              "<style scoped>\n",
              "    .dataframe tbody tr th:only-of-type {\n",
              "        vertical-align: middle;\n",
              "    }\n",
              "\n",
              "    .dataframe tbody tr th {\n",
              "        vertical-align: top;\n",
              "    }\n",
              "\n",
              "    .dataframe thead th {\n",
              "        text-align: right;\n",
              "    }\n",
              "</style>\n",
              "<table border=\"1\" class=\"dataframe\">\n",
              "  <thead>\n",
              "    <tr style=\"text-align: right;\">\n",
              "      <th></th>\n",
              "      <th>k1</th>\n",
              "      <th>k2</th>\n",
              "      <th>dataset1</th>\n",
              "      <th>dataset2</th>\n",
              "    </tr>\n",
              "  </thead>\n",
              "  <tbody>\n",
              "    <tr>\n",
              "      <th>0</th>\n",
              "      <td>X</td>\n",
              "      <td>alpha</td>\n",
              "      <td>-0.307278</td>\n",
              "      <td>-0.091722</td>\n",
              "    </tr>\n",
              "    <tr>\n",
              "      <th>1</th>\n",
              "      <td>X</td>\n",
              "      <td>beta</td>\n",
              "      <td>-1.069732</td>\n",
              "      <td>-2.082362</td>\n",
              "    </tr>\n",
              "  </tbody>\n",
              "</table>\n",
              "</div>"
            ],
            "text/plain": [
              "  k1     k2  dataset1  dataset2\n",
              "0  X  alpha -0.307278 -0.091722\n",
              "1  X   beta -1.069732 -2.082362"
            ]
          },
          "metadata": {
            "tags": []
          },
          "execution_count": 18
        }
      ]
    },
    {
      "cell_type": "code",
      "metadata": {
        "id": "keavF0tkc8CZ",
        "colab_type": "code",
        "colab": {}
      },
      "source": [
        "group_dict = dict(list(dframe.groupby('k1')))"
      ],
      "execution_count": 19,
      "outputs": []
    },
    {
      "cell_type": "code",
      "metadata": {
        "id": "JswhN8G0H6CX",
        "colab_type": "code",
        "colab": {
          "base_uri": "https://localhost:8080/",
          "height": 111
        },
        "outputId": "403cf742-7f8e-4844-911e-ea03e8c0a3c9"
      },
      "source": [
        "group_dict['X']"
      ],
      "execution_count": 21,
      "outputs": [
        {
          "output_type": "execute_result",
          "data": {
            "text/html": [
              "<div>\n",
              "<style scoped>\n",
              "    .dataframe tbody tr th:only-of-type {\n",
              "        vertical-align: middle;\n",
              "    }\n",
              "\n",
              "    .dataframe tbody tr th {\n",
              "        vertical-align: top;\n",
              "    }\n",
              "\n",
              "    .dataframe thead th {\n",
              "        text-align: right;\n",
              "    }\n",
              "</style>\n",
              "<table border=\"1\" class=\"dataframe\">\n",
              "  <thead>\n",
              "    <tr style=\"text-align: right;\">\n",
              "      <th></th>\n",
              "      <th>k1</th>\n",
              "      <th>k2</th>\n",
              "      <th>dataset1</th>\n",
              "      <th>dataset2</th>\n",
              "    </tr>\n",
              "  </thead>\n",
              "  <tbody>\n",
              "    <tr>\n",
              "      <th>0</th>\n",
              "      <td>X</td>\n",
              "      <td>alpha</td>\n",
              "      <td>-0.307278</td>\n",
              "      <td>-0.091722</td>\n",
              "    </tr>\n",
              "    <tr>\n",
              "      <th>1</th>\n",
              "      <td>X</td>\n",
              "      <td>beta</td>\n",
              "      <td>-1.069732</td>\n",
              "      <td>-2.082362</td>\n",
              "    </tr>\n",
              "  </tbody>\n",
              "</table>\n",
              "</div>"
            ],
            "text/plain": [
              "  k1     k2  dataset1  dataset2\n",
              "0  X  alpha -0.307278 -0.091722\n",
              "1  X   beta -1.069732 -2.082362"
            ]
          },
          "metadata": {
            "tags": []
          },
          "execution_count": 21
        }
      ]
    },
    {
      "cell_type": "code",
      "metadata": {
        "id": "gtjx3JhhH7Zf",
        "colab_type": "code",
        "colab": {}
      },
      "source": [
        "group_dict_axis1 = dict(list(dframe.groupby(dframe.dtypes, axis=1)))"
      ],
      "execution_count": 22,
      "outputs": []
    },
    {
      "cell_type": "code",
      "metadata": {
        "id": "A_LradHFIQd5",
        "colab_type": "code",
        "colab": {
          "base_uri": "https://localhost:8080/",
          "height": 204
        },
        "outputId": "afe3f3e2-a663-4c41-ea8a-511555300e8f"
      },
      "source": [
        "group_dict_axis1"
      ],
      "execution_count": 23,
      "outputs": [
        {
          "output_type": "execute_result",
          "data": {
            "text/plain": [
              "{dtype('float64'):    dataset1  dataset2\n",
              " 0 -0.307278 -0.091722\n",
              " 1 -1.069732 -2.082362\n",
              " 2 -0.455927 -0.708633\n",
              " 3  2.215915  0.431766\n",
              " 4  1.055917 -0.929687, dtype('O'):   k1     k2\n",
              " 0  X  alpha\n",
              " 1  X   beta\n",
              " 2  Y  alpha\n",
              " 3  Y   beta\n",
              " 4  Z  alpha}"
            ]
          },
          "metadata": {
            "tags": []
          },
          "execution_count": 23
        }
      ]
    },
    {
      "cell_type": "code",
      "metadata": {
        "id": "vEx-S2QpIRe3",
        "colab_type": "code",
        "colab": {}
      },
      "source": [
        ""
      ],
      "execution_count": null,
      "outputs": []
    }
  ]
}